{
  "nbformat": 4,
  "nbformat_minor": 0,
  "metadata": {
    "colab": {
      "provenance": [],
      "gpuType": "T4",
      "authorship_tag": "ABX9TyO/f+2k008gYamE9zEgzZjP",
      "include_colab_link": true
    },
    "kernelspec": {
      "name": "python3",
      "display_name": "Python 3"
    },
    "language_info": {
      "name": "python"
    },
    "accelerator": "GPU",
    "gpuClass": "standard"
  },
  "cells": [
    {
      "cell_type": "markdown",
      "metadata": {
        "id": "view-in-github",
        "colab_type": "text"
      },
      "source": [
        "<a href=\"https://colab.research.google.com/github/NguyenSLam/Project_AI_Final/blob/main/REALTIME_FACE_RECOGNTION.ipynb\" target=\"_parent\"><img src=\"https://colab.research.google.com/assets/colab-badge.svg\" alt=\"Open In Colab\"/></a>"
      ]
    },
    {
      "cell_type": "code",
      "execution_count": null,
      "metadata": {
        "colab": {
          "base_uri": "https://localhost:8080/"
        },
        "id": "XXIQnSkY2r_s",
        "outputId": "3c72a058-d398-4762-b5cd-3c1acbbecc5d"
      },
      "outputs": [
        {
          "output_type": "stream",
          "name": "stdout",
          "text": [
            "Mounted at /content/drive/\n"
          ]
        }
      ],
      "source": [
        "from google.colab import drive\n",
        "drive.mount('/content/drive/')"
      ]
    },
    {
      "cell_type": "code",
      "source": [
        "import tensorflow as tf\n",
        "from tensorflow import keras\n",
        "import numpy as np\n",
        "import matplotlib.pyplot as plt\n",
        "from keras.preprocessing.image import ImageDataGenerator\n",
        "import os\n",
        "from keras.models import Sequential\n",
        "from keras.layers import Dense, Dropout, Conv2D, MaxPooling2D, Flatten\n",
        "from keras.optimizers import Adam\n",
        "from keras.layers import LeakyReLU"
      ],
      "metadata": {
        "id": "5bmowRzw2tB-"
      },
      "execution_count": null,
      "outputs": []
    },
    {
      "cell_type": "code",
      "source": [
        "from os import listdir\n",
        "from numpy import asarray, save\n",
        "from keras.utils import load_img\n",
        "from keras.utils import img_to_array\n",
        "folder = '/content/drive/MyDrive/AI_Picture/FINAL_REALTIME_RECOGNITION/IMAGE_REAL_TIME_GRAY/'\n",
        "photos, labels = list(), list()\n",
        "for file in listdir(folder):\n",
        "  output= 0.0\n",
        "  if file.startswith('Thoa'):\n",
        "    output= 1.0\n",
        "  if file.startswith('Lam'):\n",
        "    output= 2.0\n",
        "  if file.startswith('Vu'):\n",
        "    output= 3.0\n",
        "  if file.startswith('Nhat'):\n",
        "    output= 4.0\n",
        "  if file.startswith('Viet'):\n",
        "    output= 5.0\n",
        "  if file.startswith('Nguyen'):\n",
        "    output= 6.0\n",
        "  if file.startswith('Phong'):\n",
        "    output= 7.0\n",
        "  if file.startswith('Quyet'):\n",
        "    output= 8.0           \n",
        "  if output != 0.0:\n",
        "        photo = load_img(folder + file, target_size=(200, 200, 3))\n",
        "        photo = img_to_array(photo)\n",
        "        photos.append(photo)\n",
        "        labels.append(output)\n",
        "photos = asarray(photos)\n",
        "labels = asarray(labels)\n",
        "print(photos.shape, labels.shape)\n",
        "save('/content/drive/MyDrive/AI_Picture/FINAL_REALTIME_RECOGNITION/MODEL/FaceDetect_photos', photos)\n",
        "save('/content/drive/MyDrive/AI_Picture/FINAL_REALTIME_RECOGNITION/MODEL/FaceDetect_labels', labels)"
      ],
      "metadata": {
        "colab": {
          "base_uri": "https://localhost:8080/"
        },
        "id": "Kwd4wHO62yoF",
        "outputId": "93a2ee57-2645-4a40-966d-d875597cf09b"
      },
      "execution_count": null,
      "outputs": [
        {
          "output_type": "stream",
          "name": "stdout",
          "text": [
            "(2140, 200, 200, 3) (2140,)\n"
          ]
        }
      ]
    },
    {
      "cell_type": "code",
      "source": [
        "#chia 10% dữ liệu cho tập kiểm tra và 90% còn lại cho tập huấn luyện.\n",
        "split_index = int(0.1 * len(photos))\n",
        "test_x, test_y = photos[:split_index], labels[:split_index]\n",
        "train_x, train_y = photos[split_index:], labels[split_index:]\n",
        "print(test_x.shape, train_x.shape)"
      ],
      "metadata": {
        "colab": {
          "base_uri": "https://localhost:8080/"
        },
        "id": "7S5Tegq822P3",
        "outputId": "e35ac685-3c20-4ac8-a2bd-d1b97c561383"
      },
      "execution_count": null,
      "outputs": [
        {
          "output_type": "stream",
          "name": "stdout",
          "text": [
            "(214, 200, 200, 3) (1926, 200, 200, 3)\n"
          ]
        }
      ]
    },
    {
      "cell_type": "code",
      "source": [
        "#về khoảng giá trị từ 0 đến 1 bằng cách chia tất cả các giá trị pixel cho 255\n",
        "train_x = train_x.reshape((1926, 200, 200, 3))\n",
        "train_x = train_x.astype('float32')/255\n",
        "test_x = test_x.reshape((214, 200, 200, 3))\n",
        "test_x = test_x.astype('float32')/255"
      ],
      "metadata": {
        "id": "63wm-JhR243M"
      },
      "execution_count": null,
      "outputs": []
    },
    {
      "cell_type": "code",
      "source": [
        "from keras.utils import to_categorical\n",
        "train_y = to_categorical(train_y,9)\n",
        "test_y = to_categorical(test_y,9)"
      ],
      "metadata": {
        "id": "d483TOYS26p9"
      },
      "execution_count": null,
      "outputs": []
    },
    {
      "cell_type": "code",
      "source": [
        "print(train_x.shape)\n",
        "print(test_x.shape)\n",
        "print(train_y.shape)\n",
        "print(test_y.shape)"
      ],
      "metadata": {
        "colab": {
          "base_uri": "https://localhost:8080/"
        },
        "id": "sGLGsh-p28X9",
        "outputId": "0927914f-08d4-49df-b0cb-4cc27565c0e9"
      },
      "execution_count": null,
      "outputs": [
        {
          "output_type": "stream",
          "name": "stdout",
          "text": [
            "(1926, 200, 200, 3)\n",
            "(214, 200, 200, 3)\n",
            "(1926, 9)\n",
            "(214, 9)\n"
          ]
        }
      ]
    },
    {
      "cell_type": "code",
      "source": [
        "# khai báo các thành phần cần thiết để xây dựng một mô hình mạng neural \n",
        "from keras.models import Sequential,Model\n",
        "from keras.layers import Dense,Flatten,Dropout,Conv2D,MaxPooling2D,Normalization,Input\n",
        "from keras.optimizers import Adam,SGD\n",
        "from keras import losses\n",
        "loss = losses\n",
        "batch_size = 64\n",
        "epochs = 40\n",
        "classes = 9"
      ],
      "metadata": {
        "id": "gSdqC8KU2-OY"
      },
      "execution_count": null,
      "outputs": []
    },
    {
      "cell_type": "code",
      "source": [
        "# khởi tạo một mô hình mạng neural convolutional (CNN) \n",
        "from keras.layers import LeakyReLU\n",
        "model=Sequential()\n",
        "model.add(Conv2D(32,kernel_size=(3,3),activation='linear',input_shape=(200,200,3),padding='same'))\n",
        "model.add(LeakyReLU(alpha=0.1))\n",
        "model.add(MaxPooling2D((2,2),padding='same'))\n",
        "\n",
        "model.add(Conv2D(64,kernel_size=(3,3),activation='linear',padding='same'))\n",
        "model.add(LeakyReLU(alpha=0.1))\n",
        "model.add(MaxPooling2D((2,2),padding='same'))\n",
        "\n",
        "model.add(Conv2D(128,kernel_size=(3,3),activation='linear',padding='same'))\n",
        "model.add(LeakyReLU(alpha=0.1))\n",
        "model.add(MaxPooling2D((2,2),padding='same'))\n",
        "\n",
        "model.add(Flatten())\n",
        "model.add(Dense(128,activation='linear'))\n",
        "model.add(LeakyReLU(alpha=0.1))\n",
        "model.add(Dense(classes,activation='softmax'))"
      ],
      "metadata": {
        "id": "uqHs8NS13AAW"
      },
      "execution_count": null,
      "outputs": []
    },
    {
      "cell_type": "code",
      "source": [
        "# biên dịch mô hình CNN \n",
        "#model.compile(loss = 'categorical_crossentropy', optimizer = Adam(lr=0.001), metrics = ['accuracy'])\n",
        "#Compile:\n",
        "from keras.losses import categorical_crossentropy\n",
        "sgd = SGD(lr = 0.001, decay = 1e-6, momentum = 0.9, nesterov= True)\n",
        "model.compile(optimizer = sgd, loss = 'categorical_crossentropy', metrics = ['accuracy'])\n",
        "train = model.fit(train_x, train_y, batch_size= batch_size, epochs= epochs, verbose= 1)\n",
        "#Đoạn code này đánh giá độ chính xác của mô hình\n",
        "test_loss, test_acc = model.evaluate(train_x, train_y)\n",
        "print('Mất mát:',test_loss)\n",
        "print('Độ chính xác',test_acc)"
      ],
      "metadata": {
        "colab": {
          "base_uri": "https://localhost:8080/"
        },
        "id": "KRTmeEIt3Fcl",
        "outputId": "2e93e9a0-4aff-457e-b174-050ef0a4ebde"
      },
      "execution_count": null,
      "outputs": [
        {
          "output_type": "stream",
          "name": "stderr",
          "text": [
            "/usr/local/lib/python3.10/dist-packages/keras/optimizers/legacy/gradient_descent.py:114: UserWarning: The `lr` argument is deprecated, use `learning_rate` instead.\n",
            "  super().__init__(name, **kwargs)\n"
          ]
        },
        {
          "output_type": "stream",
          "name": "stdout",
          "text": [
            "Epoch 1/40\n",
            "31/31 [==============================] - 14s 99ms/step - loss: 1.6304 - accuracy: 0.4600\n",
            "Epoch 2/40\n",
            "31/31 [==============================] - 3s 87ms/step - loss: 0.2567 - accuracy: 0.9372\n",
            "Epoch 3/40\n",
            "31/31 [==============================] - 3s 88ms/step - loss: 0.0311 - accuracy: 0.9927\n",
            "Epoch 4/40\n",
            "31/31 [==============================] - 3s 90ms/step - loss: 0.0127 - accuracy: 0.9990\n",
            "Epoch 5/40\n",
            "31/31 [==============================] - 3s 93ms/step - loss: 0.0075 - accuracy: 1.0000\n",
            "Epoch 6/40\n",
            "31/31 [==============================] - 3s 88ms/step - loss: 0.0041 - accuracy: 1.0000\n",
            "Epoch 7/40\n",
            "31/31 [==============================] - 3s 87ms/step - loss: 0.0030 - accuracy: 1.0000\n",
            "Epoch 8/40\n",
            "31/31 [==============================] - 3s 89ms/step - loss: 0.0026 - accuracy: 1.0000\n",
            "Epoch 9/40\n",
            "31/31 [==============================] - 3s 92ms/step - loss: 0.0023 - accuracy: 1.0000\n",
            "Epoch 10/40\n",
            "31/31 [==============================] - 3s 93ms/step - loss: 0.0017 - accuracy: 1.0000\n",
            "Epoch 11/40\n",
            "31/31 [==============================] - 3s 92ms/step - loss: 0.0016 - accuracy: 1.0000\n",
            "Epoch 12/40\n",
            "31/31 [==============================] - 3s 91ms/step - loss: 0.0021 - accuracy: 1.0000\n",
            "Epoch 13/40\n",
            "31/31 [==============================] - 3s 88ms/step - loss: 0.0016 - accuracy: 1.0000\n",
            "Epoch 14/40\n",
            "31/31 [==============================] - 3s 92ms/step - loss: 0.0011 - accuracy: 1.0000\n",
            "Epoch 15/40\n",
            "31/31 [==============================] - 3s 91ms/step - loss: 8.9058e-04 - accuracy: 1.0000\n",
            "Epoch 16/40\n",
            "31/31 [==============================] - 3s 89ms/step - loss: 8.5639e-04 - accuracy: 1.0000\n",
            "Epoch 17/40\n",
            "31/31 [==============================] - 3s 89ms/step - loss: 7.6463e-04 - accuracy: 1.0000\n",
            "Epoch 18/40\n",
            "31/31 [==============================] - 3s 89ms/step - loss: 7.1309e-04 - accuracy: 1.0000\n",
            "Epoch 19/40\n",
            "31/31 [==============================] - 3s 92ms/step - loss: 6.8152e-04 - accuracy: 1.0000\n",
            "Epoch 20/40\n",
            "31/31 [==============================] - 3s 90ms/step - loss: 6.6414e-04 - accuracy: 1.0000\n",
            "Epoch 21/40\n",
            "31/31 [==============================] - 3s 88ms/step - loss: 5.9379e-04 - accuracy: 1.0000\n",
            "Epoch 22/40\n",
            "31/31 [==============================] - 3s 89ms/step - loss: 5.6325e-04 - accuracy: 1.0000\n",
            "Epoch 23/40\n",
            "31/31 [==============================] - 3s 89ms/step - loss: 5.5527e-04 - accuracy: 1.0000\n",
            "Epoch 24/40\n",
            "31/31 [==============================] - 3s 94ms/step - loss: 5.0059e-04 - accuracy: 1.0000\n",
            "Epoch 25/40\n",
            "31/31 [==============================] - 3s 90ms/step - loss: 4.7347e-04 - accuracy: 1.0000\n",
            "Epoch 26/40\n",
            "31/31 [==============================] - 3s 89ms/step - loss: 4.5934e-04 - accuracy: 1.0000\n",
            "Epoch 27/40\n",
            "31/31 [==============================] - 3s 89ms/step - loss: 4.4141e-04 - accuracy: 1.0000\n",
            "Epoch 28/40\n",
            "31/31 [==============================] - 3s 90ms/step - loss: 4.2385e-04 - accuracy: 1.0000\n",
            "Epoch 29/40\n",
            "31/31 [==============================] - 3s 95ms/step - loss: 4.6609e-04 - accuracy: 1.0000\n",
            "Epoch 30/40\n",
            "31/31 [==============================] - 3s 89ms/step - loss: 3.9971e-04 - accuracy: 1.0000\n",
            "Epoch 31/40\n",
            "31/31 [==============================] - 3s 88ms/step - loss: 3.6980e-04 - accuracy: 1.0000\n",
            "Epoch 32/40\n",
            "31/31 [==============================] - 3s 90ms/step - loss: 3.5526e-04 - accuracy: 1.0000\n",
            "Epoch 33/40\n",
            "31/31 [==============================] - 3s 91ms/step - loss: 3.3834e-04 - accuracy: 1.0000\n",
            "Epoch 34/40\n",
            "31/31 [==============================] - 3s 93ms/step - loss: 3.3068e-04 - accuracy: 1.0000\n",
            "Epoch 35/40\n",
            "31/31 [==============================] - 3s 89ms/step - loss: 3.1824e-04 - accuracy: 1.0000\n",
            "Epoch 36/40\n",
            "31/31 [==============================] - 3s 89ms/step - loss: 3.0464e-04 - accuracy: 1.0000\n",
            "Epoch 37/40\n",
            "31/31 [==============================] - 3s 89ms/step - loss: 3.0009e-04 - accuracy: 1.0000\n",
            "Epoch 38/40\n",
            "31/31 [==============================] - 3s 92ms/step - loss: 2.8896e-04 - accuracy: 1.0000\n",
            "Epoch 39/40\n",
            "31/31 [==============================] - 3s 93ms/step - loss: 3.0439e-04 - accuracy: 1.0000\n",
            "Epoch 40/40\n",
            "31/31 [==============================] - 3s 90ms/step - loss: 2.7834e-04 - accuracy: 1.0000\n",
            "61/61 [==============================] - 2s 26ms/step - loss: 2.5992e-04 - accuracy: 1.0000\n",
            "Mất mát: 0.0002599220897536725\n",
            "Độ chính xác 1.0\n"
          ]
        }
      ]
    },
    {
      "cell_type": "code",
      "source": [
        "model.save('/content/drive/MyDrive/AI_Picture/FINAL_REALTIME_RECOGNITION/MODEL/FaceDetect_RealTime_final5.h5')"
      ],
      "metadata": {
        "id": "ahiywENi3IwB"
      },
      "execution_count": null,
      "outputs": []
    },
    {
      "cell_type": "code",
      "source": [
        "# Vẽ biểu đồ độ chính xác và độ mất mát của mô hình trong quá trình huấn luyện\n",
        "acc = train.history['accuracy']\n",
        "loss = train.history['loss']\n",
        "epochs_range = range(epochs)\n",
        "\n",
        "plt.figure(figsize=(10, 5))\n",
        "plt.subplot(1, 2, 1)\n",
        "plt.plot(epochs_range, acc, label='Training Accuracy')\n",
        "plt.legend(loc='lower right')\n",
        "plt.title('Training Accuracy')\n",
        "\n",
        "plt.subplot(1, 2, 2)\n",
        "plt.plot(epochs_range, loss, label='Training Loss')\n",
        "plt.legend(loc='upper right')\n",
        "plt.title('Training Loss')\n",
        "plt.show()"
      ],
      "metadata": {
        "colab": {
          "base_uri": "https://localhost:8080/",
          "height": 468
        },
        "id": "nQbuElY23MEm",
        "outputId": "4267137f-974c-4179-a7cc-ab68de1442db"
      },
      "execution_count": null,
      "outputs": [
        {
          "output_type": "display_data",
          "data": {
            "text/plain": [
              "<Figure size 1000x500 with 2 Axes>"
            ],
            "image/png": "[encoded data removed]"
          },
          "metadata": {}
        }
      ]
    }
  ]
}