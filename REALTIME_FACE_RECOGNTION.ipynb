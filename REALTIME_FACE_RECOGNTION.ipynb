{
  "cells": [
    {
      "cell_type": "markdown",
      "metadata": {
        "id": "view-in-github",
        "colab_type": "text"
      },
      "source": [
        "<a href=\"https://colab.research.google.com/github/NguyenSLam/Project_AI_Final/blob/main/REALTIME_FACE_RECOGNTION.ipynb\" target=\"_parent\"><img src=\"https://colab.research.google.com/assets/colab-badge.svg\" alt=\"Open In Colab\"/></a>"
      ]
    },
    {
      "cell_type": "code",
      "execution_count": 1,
      "metadata": {
        "colab": {
          "base_uri": "https://localhost:8080/"
        },
        "id": "XXIQnSkY2r_s",
        "outputId": "73dd8777-0b73-4bb2-ccf4-8e248f279adb"
      },
      "outputs": [
        {
          "output_type": "stream",
          "name": "stdout",
          "text": [
            "Drive already mounted at /content/drive/; to attempt to forcibly remount, call drive.mount(\"/content/drive/\", force_remount=True).\n"
          ]
        }
      ],
      "source": [
        "from google.colab import drive\n",
        "drive.mount('/content/drive/')"
      ]
    },
    {
      "cell_type": "code",
      "execution_count": 2,
      "metadata": {
        "id": "5bmowRzw2tB-"
      },
      "outputs": [],
      "source": [
        "import tensorflow as tf\n",
        "from tensorflow import keras\n",
        "import numpy as np\n",
        "import matplotlib.pyplot as plt\n",
        "from keras.preprocessing.image import ImageDataGenerator\n",
        "import os\n",
        "from keras.models import Sequential\n",
        "from keras.layers import Dense, Dropout, Conv2D, MaxPooling2D, Flatten\n",
        "from keras.optimizers import Adam\n",
        "from keras.layers import LeakyReLU"
      ]
    },
    {
      "cell_type": "code",
      "execution_count": 3,
      "metadata": {
        "colab": {
          "base_uri": "https://localhost:8080/"
        },
        "id": "Kwd4wHO62yoF",
        "outputId": "ef768057-260b-4b77-ddaf-a6ffae12cf3b"
      },
      "outputs": [
        {
          "output_type": "stream",
          "name": "stdout",
          "text": [
            "(2197, 100, 100, 3) (2197,)\n"
          ]
        }
      ],
      "source": [
        "from os import listdir\n",
        "from numpy import asarray, save\n",
        "from keras.utils import load_img\n",
        "from keras.utils import img_to_array\n",
        "folder = '/content/drive/MyDrive/AI_Picture/FINAL_REALTIME_RECOGNITION/IMAGE_REAL_TIME_GRAY/'\n",
        "photos, labels = list(), list()\n",
        "for file in listdir(folder):\n",
        "  output= 0.0\n",
        "  if file.startswith('Thoa'):\n",
        "    output= 1.0\n",
        "  if file.startswith('Lam'):\n",
        "    output= 2.0\n",
        "  if file.startswith('Vu'):\n",
        "    output= 3.0\n",
        "  if file.startswith('Nhat'):\n",
        "    output= 4.0\n",
        "  if file.startswith('Viet'):\n",
        "    output= 5.0\n",
        "  if file.startswith('Nguyen'):\n",
        "    output= 6.0\n",
        "  if file.startswith('Phong'):\n",
        "    output= 7.0\n",
        "  if file.startswith('Quyet'):\n",
        "    output= 8.0           \n",
        "  if output != 0.0:\n",
        "        photo = load_img(folder + file, target_size=(100, 100))\n",
        "        photo = img_to_array(photo)\n",
        "        photos.append(photo)\n",
        "        labels.append(output)\n",
        "photos = asarray(photos)\n",
        "labels = asarray(labels)\n",
        "print(photos.shape, labels.shape)\n",
        "save('/content/drive/MyDrive/AI_Picture/FINAL_REALTIME_RECOGNITION/MODEL/FaceDetect_photos.npy', photos)\n",
        "save('/content/drive/MyDrive/AI_Picture/FINAL_REALTIME_RECOGNITION/MODEL/FaceDetect_labels.npy', labels)"
      ]
    },
    {
      "cell_type": "code",
      "execution_count": 4,
      "metadata": {
        "colab": {
          "base_uri": "https://localhost:8080/"
        },
        "id": "7S5Tegq822P3",
        "outputId": "e41d2679-9ba7-49f0-ba22-6b659276d5f4"
      },
      "outputs": [
        {
          "output_type": "stream",
          "name": "stdout",
          "text": [
            "(219, 100, 100, 3) (1978, 100, 100, 3)\n"
          ]
        }
      ],
      "source": [
        "#chia 10% dữ liệu cho tập kiểm tra và 90% còn lại cho tập huấn luyện.\n",
        "split_index = int(0.1 * len(photos))\n",
        "test_x, test_y = photos[:split_index], labels[:split_index]\n",
        "train_x, train_y = photos[split_index:], labels[split_index:]\n",
        "print(test_x.shape, train_x.shape)"
      ]
    },
    {
      "cell_type": "code",
      "execution_count": 5,
      "metadata": {
        "id": "63wm-JhR243M"
      },
      "outputs": [],
      "source": [
        "#về khoảng giá trị từ 0 đến 1 bằng cách chia tất cả các giá trị pixel cho 255\n",
        "train_x = train_x.reshape((1978, 100, 100, 3))\n",
        "train_x = train_x.astype('float32')/255\n",
        "test_x = test_x.reshape((219, 100, 100, 3))\n",
        "test_x = test_x.astype('float32')/255"
      ]
    },
    {
      "cell_type": "code",
      "execution_count": 6,
      "metadata": {
        "id": "d483TOYS26p9"
      },
      "outputs": [],
      "source": [
        "from keras.utils import to_categorical\n",
        "train_y = to_categorical(train_y,9)\n",
        "test_y = to_categorical(test_y,9)"
      ]
    },
    {
      "cell_type": "code",
      "execution_count": 7,
      "metadata": {
        "colab": {
          "base_uri": "https://localhost:8080/"
        },
        "id": "sGLGsh-p28X9",
        "outputId": "a3e9ba20-b09c-48ad-f201-c6478971175f"
      },
      "outputs": [
        {
          "output_type": "stream",
          "name": "stdout",
          "text": [
            "(1978, 100, 100, 3)\n",
            "(219, 100, 100, 3)\n",
            "(1978, 9)\n",
            "(219, 9)\n"
          ]
        }
      ],
      "source": [
        "print(train_x.shape)\n",
        "print(test_x.shape)\n",
        "print(train_y.shape)\n",
        "print(test_y.shape)"
      ]
    },
    {
      "cell_type": "code",
      "execution_count": 8,
      "metadata": {
        "id": "gSdqC8KU2-OY"
      },
      "outputs": [],
      "source": [
        "# khai báo các thành phần cần thiết để xây dựng một mô hình mạng neural \n",
        "from keras.models import Sequential,Model\n",
        "from keras.layers import Dense,Flatten,Dropout,Conv2D,MaxPooling2D,Normalization,Input\n",
        "from keras.optimizers import Adam,SGD\n",
        "from keras import losses\n",
        "loss = losses\n",
        "batch_size = 50\n",
        "epochs = 20\n",
        "classes = 9"
      ]
    },
    {
      "cell_type": "code",
      "execution_count": 9,
      "metadata": {
        "id": "uqHs8NS13AAW",
        "colab": {
          "base_uri": "https://localhost:8080/"
        },
        "outputId": "d2028f0a-3239-4d59-b321-6b6d66ad8488"
      },
      "outputs": [
        {
          "output_type": "stream",
          "name": "stdout",
          "text": [
            "Model: \"sequential\"\n",
            "_________________________________________________________________\n",
            " Layer (type)                Output Shape              Param #   \n",
            "=================================================================\n",
            " conv2d (Conv2D)             (None, 100, 100, 32)      896       \n",
            "                                                                 \n",
            " leaky_re_lu (LeakyReLU)     (None, 100, 100, 32)      0         \n",
            "                                                                 \n",
            " max_pooling2d (MaxPooling2D  (None, 50, 50, 32)       0         \n",
            " )                                                               \n",
            "                                                                 \n",
            " conv2d_1 (Conv2D)           (None, 50, 50, 64)        18496     \n",
            "                                                                 \n",
            " leaky_re_lu_1 (LeakyReLU)   (None, 50, 50, 64)        0         \n",
            "                                                                 \n",
            " max_pooling2d_1 (MaxPooling  (None, 25, 25, 64)       0         \n",
            " 2D)                                                             \n",
            "                                                                 \n",
            " conv2d_2 (Conv2D)           (None, 25, 25, 128)       73856     \n",
            "                                                                 \n",
            " leaky_re_lu_2 (LeakyReLU)   (None, 25, 25, 128)       0         \n",
            "                                                                 \n",
            " max_pooling2d_2 (MaxPooling  (None, 13, 13, 128)      0         \n",
            " 2D)                                                             \n",
            "                                                                 \n",
            " conv2d_3 (Conv2D)           (None, 13, 13, 256)       295168    \n",
            "                                                                 \n",
            " leaky_re_lu_3 (LeakyReLU)   (None, 13, 13, 256)       0         \n",
            "                                                                 \n",
            " max_pooling2d_3 (MaxPooling  (None, 7, 7, 256)        0         \n",
            " 2D)                                                             \n",
            "                                                                 \n",
            " conv2d_4 (Conv2D)           (None, 7, 7, 512)         1180160   \n",
            "                                                                 \n",
            " leaky_re_lu_4 (LeakyReLU)   (None, 7, 7, 512)         0         \n",
            "                                                                 \n",
            " max_pooling2d_4 (MaxPooling  (None, 4, 4, 512)        0         \n",
            " 2D)                                                             \n",
            "                                                                 \n",
            " conv2d_5 (Conv2D)           (None, 4, 4, 1024)        4719616   \n",
            "                                                                 \n",
            " leaky_re_lu_5 (LeakyReLU)   (None, 4, 4, 1024)        0         \n",
            "                                                                 \n",
            " max_pooling2d_5 (MaxPooling  (None, 2, 2, 1024)       0         \n",
            " 2D)                                                             \n",
            "                                                                 \n",
            " flatten (Flatten)           (None, 4096)              0         \n",
            "                                                                 \n",
            " dense (Dense)               (None, 1024)              4195328   \n",
            "                                                                 \n",
            " leaky_re_lu_6 (LeakyReLU)   (None, 1024)              0         \n",
            "                                                                 \n",
            " dense_1 (Dense)             (None, 9)                 9225      \n",
            "                                                                 \n",
            "=================================================================\n",
            "Total params: 10,492,745\n",
            "Trainable params: 10,492,745\n",
            "Non-trainable params: 0\n",
            "_________________________________________________________________\n"
          ]
        }
      ],
      "source": [
        "# khởi tạo một mô hình mạng neural convolutional (CNN) \n",
        "from keras.layers import LeakyReLU\n",
        "model=Sequential()\n",
        "model.add(Conv2D(32,kernel_size=(3,3),activation='linear',input_shape=(100,100,3),padding='same'))\n",
        "model.add(LeakyReLU(alpha=0.1))\n",
        "model.add(MaxPooling2D((2,2),padding='same'))\n",
        "\n",
        "model.add(Conv2D(64,kernel_size=(3,3),activation='linear',padding='same'))\n",
        "model.add(LeakyReLU(alpha=0.1))\n",
        "model.add(MaxPooling2D((2,2),padding='same'))\n",
        "\n",
        "model.add(Conv2D(128,kernel_size=(3,3),activation='linear',padding='same'))\n",
        "model.add(LeakyReLU(alpha=0.1))\n",
        "model.add(MaxPooling2D((2,2),padding='same'))\n",
        "\n",
        "model.add(Conv2D(256,kernel_size=(3,3),activation='linear',padding='same'))\n",
        "model.add(LeakyReLU(alpha=0.1))\n",
        "model.add(MaxPooling2D((2,2),padding='same'))\n",
        "\n",
        "model.add(Conv2D(512,kernel_size=(3,3),activation='linear',padding='same'))\n",
        "model.add(LeakyReLU(alpha=0.1))\n",
        "model.add(MaxPooling2D((2,2),padding='same'))\n",
        "\n",
        "model.add(Conv2D(1024,kernel_size=(3,3),activation='linear',padding='same'))\n",
        "model.add(LeakyReLU(alpha=0.1))\n",
        "model.add(MaxPooling2D((2,2),padding='same'))\n",
        "\n",
        "model.add(Flatten())\n",
        "model.add(Dense(1024,activation='linear'))\n",
        "model.add(LeakyReLU(alpha=0.1))\n",
        "model.add(Dense(classes,activation='softmax'))\n",
        "model.summary()"
      ]
    },
    {
      "cell_type": "code",
      "execution_count": 10,
      "metadata": {
        "colab": {
          "base_uri": "https://localhost:8080/"
        },
        "id": "KRTmeEIt3Fcl",
        "outputId": "2c1a6cc1-96bc-4b5d-95f6-aad612ee4540"
      },
      "outputs": [
        {
          "output_type": "stream",
          "name": "stderr",
          "text": [
            "/usr/local/lib/python3.10/dist-packages/keras/optimizers/legacy/gradient_descent.py:114: UserWarning: The `lr` argument is deprecated, use `learning_rate` instead.\n",
            "  super().__init__(name, **kwargs)\n"
          ]
        },
        {
          "output_type": "stream",
          "name": "stdout",
          "text": [
            "Epoch 1/20\n",
            "40/40 [==============================] - 9s 80ms/step - loss: 2.1719 - accuracy: 0.1881\n",
            "Epoch 2/20\n",
            "40/40 [==============================] - 2s 50ms/step - loss: 2.0983 - accuracy: 0.3054\n",
            "Epoch 3/20\n",
            "40/40 [==============================] - 2s 54ms/step - loss: 1.9736 - accuracy: 0.2154\n",
            "Epoch 4/20\n",
            "40/40 [==============================] - 1s 36ms/step - loss: 1.8160 - accuracy: 0.3731\n",
            "Epoch 5/20\n",
            "40/40 [==============================] - 1s 35ms/step - loss: 1.3040 - accuracy: 0.6072\n",
            "Epoch 6/20\n",
            "40/40 [==============================] - 1s 35ms/step - loss: 0.7070 - accuracy: 0.7887\n",
            "Epoch 7/20\n",
            "40/40 [==============================] - 1s 35ms/step - loss: 0.2967 - accuracy: 0.9176\n",
            "Epoch 8/20\n",
            "40/40 [==============================] - 1s 35ms/step - loss: 0.0792 - accuracy: 0.9848\n",
            "Epoch 9/20\n",
            "40/40 [==============================] - 1s 35ms/step - loss: 1.5559 - accuracy: 0.7346\n",
            "Epoch 10/20\n",
            "40/40 [==============================] - 1s 35ms/step - loss: 0.1728 - accuracy: 0.9590\n",
            "Epoch 11/20\n",
            "40/40 [==============================] - 1s 36ms/step - loss: 0.0365 - accuracy: 0.9944\n",
            "Epoch 12/20\n",
            "40/40 [==============================] - 1s 37ms/step - loss: 0.0175 - accuracy: 0.9980\n",
            "Epoch 13/20\n",
            "40/40 [==============================] - 1s 37ms/step - loss: 0.0118 - accuracy: 0.9985\n",
            "Epoch 14/20\n",
            "40/40 [==============================] - 1s 37ms/step - loss: 0.0087 - accuracy: 0.9990\n",
            "Epoch 15/20\n",
            "40/40 [==============================] - 1s 35ms/step - loss: 0.0068 - accuracy: 0.9990\n",
            "Epoch 16/20\n",
            "40/40 [==============================] - 1s 35ms/step - loss: 0.0042 - accuracy: 0.9995\n",
            "Epoch 17/20\n",
            "40/40 [==============================] - 1s 35ms/step - loss: 0.0033 - accuracy: 1.0000\n",
            "Epoch 18/20\n",
            "40/40 [==============================] - 1s 35ms/step - loss: 0.0023 - accuracy: 1.0000\n",
            "Epoch 19/20\n",
            "40/40 [==============================] - 1s 35ms/step - loss: 0.0021 - accuracy: 1.0000\n",
            "Epoch 20/20\n",
            "40/40 [==============================] - 1s 35ms/step - loss: 0.0018 - accuracy: 1.0000\n",
            "62/62 [==============================] - 1s 16ms/step - loss: 0.0017 - accuracy: 1.0000\n",
            "Mất mát: 0.0016621233662590384\n",
            "Độ chính xác 1.0\n"
          ]
        }
      ],
      "source": [
        "# biên dịch mô hình CNN \n",
        "#model.compile(loss = 'categorical_crossentropy', optimizer = Adam(lr=0.001), metrics = ['accuracy'])\n",
        "#Compile:\n",
        "from keras.losses import categorical_crossentropy\n",
        "sgd = SGD(lr = 0.001, decay = 1e-6, momentum = 0.9, nesterov= True)\n",
        "model.compile(optimizer = sgd, loss = 'categorical_crossentropy', metrics = ['accuracy'])\n",
        "train = model.fit(train_x, train_y, batch_size= batch_size, epochs= epochs, verbose= 1)\n",
        "#Đoạn code này đánh giá độ chính xác của mô hình\n",
        "test_loss, test_acc = model.evaluate(train_x, train_y)\n",
        "print('Mất mát:',test_loss)\n",
        "print('Độ chính xác',test_acc)"
      ]
    },
    {
      "cell_type": "code",
      "execution_count": 11,
      "metadata": {
        "id": "ahiywENi3IwB"
      },
      "outputs": [],
      "source": [
        "model.save('/content/drive/MyDrive/AI_Picture/FINAL_REALTIME_RECOGNITION/MODEL/FaceDetect_RealTime_final6.h5')"
      ]
    },
    {
      "cell_type": "code",
      "execution_count": 12,
      "metadata": {
        "colab": {
          "base_uri": "https://localhost:8080/",
          "height": 468
        },
        "id": "nQbuElY23MEm",
        "outputId": "42ec2d10-cb98-4545-e117-fdc9fe3190f5"
      },
      "outputs": [
        {
          "output_type": "display_data",
          "data": {
            "text/plain": [
              "<Figure size 1000x500 with 2 Axes>"
            ],
            "image/png": "[encoded data removed]"
          },
          "metadata": {}
        }
      ],
      "source": [
        "# Vẽ biểu đồ độ chính xác và độ mất mát của mô hình trong quá trình huấn luyện\n",
        "acc = train.history['accuracy']\n",
        "loss = train.history['loss']\n",
        "epochs_range = range(epochs)\n",
        "\n",
        "plt.figure(figsize=(10, 5))\n",
        "plt.subplot(1, 2, 1)\n",
        "plt.plot(epochs_range, acc, label='Training Accuracy')\n",
        "plt.legend(loc='lower right')\n",
        "plt.title('Training Accuracy')\n",
        "\n",
        "plt.subplot(1, 2, 2)\n",
        "plt.plot(epochs_range, loss, label='Training Loss')\n",
        "plt.legend(loc='upper right')\n",
        "plt.title('Training Loss')\n",
        "plt.show()"
      ]
    }
  ],
  "metadata": {
    "accelerator": "GPU",
    "colab": {
      "provenance": [],
      "gpuType": "T4",
      "authorship_tag": "ABX9TyMWWKz2qA6lFMUwrB8zbLSk",
      "include_colab_link": true
    },
    "gpuClass": "standard",
    "kernelspec": {
      "display_name": "Python 3",
      "name": "python3"
    },
    "language_info": {
      "name": "python"
    }
  },
  "nbformat": 4,
  "nbformat_minor": 0
}